{
 "cells": [
  {
   "cell_type": "code",
   "execution_count": 1,
   "metadata": {},
   "outputs": [],
   "source": [
    "import utils\n",
    "# Setup\n",
    "import warnings; warnings.simplefilter('ignore')\n",
    "# set this to your working directory\n",
    "WORKING_DIR = '/home/elliott/Dropbox/_Ash_Teaching/2018-09 - Bocconi - Text Data and ML/code'\n",
    "import os\n",
    "os.chdir(WORKING_DIR)\n",
    "import pandas as pd\n",
    "df1 = pd.read_csv('death-penalty-cases.csv')\n",
    "%matplotlib notebook"
   ]
  },
  {
   "cell_type": "code",
   "execution_count": 2,
   "metadata": {},
   "outputs": [
    {
     "name": "stdout",
     "output_type": "stream",
     "text": [
      "b'<!DOCTYPE html>\\n<html lang=\"en\">\\n<head>\\n  <meta charset=\"utf-8\"/>\\n  <meta http-equiv=\"Content-Language\" content=\"en\"/>\\n  <meta name=\"language\" content=\"en_us\"/>\\n  <meta name=\"viewport\" content=\"width=device-width,initial-scale=1\"/>\\n\\n  \\n  <meta name=\"description\" content=\"Opinion for People v. Germany, 674 P.2d 345 \\xe2\\x80\\x94 Brought to you by Free Law Project, a non-profit dedicated to creating high qual'\n",
      "b'ik.php?idsite=1\"\\n                    style=\"border:0;\" alt=\"\"/></p></noscript>\\n  <!-- End Piwik Code -->\\n\\n<!--[if lt IE 10 ]>\\n<script src=\"//ajax.googleapis.com/ajax/libs/chrome-frame/1.0.3/CFInstall.min.js\"></script>\\n<script>window.attachEvent(\\'onload\\',function(){CFInstall.check({mode:\\'inline\\', url:\\'/bad-browser/\\', cssText: \\'width: 100%; height: 200px;\\' })})</script>\\n<![endif]-->\\n</body>\\n</html>\\n'\n",
      "77663\n"
     ]
    }
   ],
   "source": [
    "###################################\n",
    "# Screen Scraping\n",
    "###################################\n",
    "\n",
    "import urllib # Python's module for accessing web pages\n",
    "url = 'https://goo.gl/VRF8Xs' # shortened URL for court case\n",
    "page = urllib.request.urlopen(url) # open the web page\n",
    "\n",
    "html = page.read() # read web page contents as a string\n",
    "print(html[:400])  # print first 400 characters\n",
    "print(html[-400:]) # print last 400 characters\n",
    "print(len(html))   # print length of string"
   ]
  },
  {
   "cell_type": "code",
   "execution_count": 3,
   "metadata": {},
   "outputs": [
    {
     "data": {
      "text/plain": [
       "'ko'"
      ]
     },
     "execution_count": 3,
     "metadata": {},
     "output_type": "execute_result"
    }
   ],
   "source": [
    "#############\n",
    "# Translation\n",
    "#############\n",
    "\n",
    "from googletrans import Translator\n",
    "translator = Translator()\n",
    "lang = translator.detect('이 문장은 한글로 쓰여졌습니다.').lang\n",
    "lang"
   ]
  },
  {
   "cell_type": "code",
   "execution_count": 4,
   "metadata": {},
   "outputs": [
    {
     "data": {
      "text/plain": [
       "'This sentence was written in Korean.'"
      ]
     },
     "execution_count": 4,
     "metadata": {},
     "output_type": "execute_result"
    }
   ],
   "source": [
    "eng = translator.translate('이 문장은 한글로 쓰여졌습니다.',\n",
    "                           src=lang,\n",
    "                           dest='en')\n",
    "eng.text"
   ]
  },
  {
   "cell_type": "code",
   "execution_count": 5,
   "metadata": {},
   "outputs": [
    {
     "name": "stdout",
     "output_type": "stream",
     "text": [
      "<title>People v. Germany, 674 P.2d 345 – CourtListener.com</title>\n"
     ]
    }
   ],
   "source": [
    "###################################\n",
    "# HTML parsing\n",
    "###################################\n",
    "\n",
    "# Parse raw HTML\n",
    "from bs4 import BeautifulSoup # package for parsing HTML\n",
    "soup = BeautifulSoup(html, 'lxml') # parse html of web page\n",
    "print(soup.title) # example usage: print title item"
   ]
  },
  {
   "cell_type": "code",
   "execution_count": 6,
   "metadata": {},
   "outputs": [
    {
     "name": "stdout",
     "output_type": "stream",
     "text": [
      "534\n"
     ]
    }
   ],
   "source": [
    "# extract text\n",
    "text = soup.get_text() # get text (remove HTML markup)\n",
    "lines = text.splitlines() # split string into separate lines\n",
    "print(len(lines)) # print number of lines"
   ]
  },
  {
   "cell_type": "code",
   "execution_count": 7,
   "metadata": {},
   "outputs": [
    {
     "name": "stdout",
     "output_type": "stream",
     "text": [
      "199\n",
      "['People v. Germany, 674 P.2d 345 – CourtListener.com', 'Toggle navigation', 'About', 'FAQ', 'Tour', 'Donate', 'Sign in / Register', 'From Free Law Project, a 501(c)(3) non-profit.', 'Opinions', 'RECAP Archive', 'Oral Arguments', 'Judges', 'Visualizations\\xa0', 'Gallery', 'SCOTUS Networks', 'New Network', 'Donate', 'Your Notes', '                    (edit)', '                     ']\n"
     ]
    }
   ],
   "source": [
    "lines = [line for line in lines if line != ''] # drop empty lines\n",
    "print(len(lines)) # print number of lines\n",
    "print(lines[:20]) # print first 20 lines"
   ]
  },
  {
   "cell_type": "code",
   "execution_count": 8,
   "metadata": {},
   "outputs": [
    {
     "name": "stdout",
     "output_type": "stream",
     "text": [
      "Visualizations \n"
     ]
    }
   ],
   "source": [
    "###################################\n",
    "# Removing unicode characters\n",
    "###################################\n",
    "\n",
    "from unidecode import unidecode # package for removing unicode\n",
    "fixed = unidecode('Visualizations\\xa0') # example usage\n",
    "print(fixed) # print cleaned string"
   ]
  },
  {
   "cell_type": "code",
   "execution_count": 9,
   "metadata": {},
   "outputs": [
    {
     "data": {
      "text/plain": [
       "32567"
      ]
     },
     "execution_count": 9,
     "metadata": {},
     "output_type": "execute_result"
    }
   ],
   "source": [
    "##########\n",
    "# Exploring a Corpus\n",
    "##########\n",
    "df1 = df1[['state','snippet']]\n",
    "# Number of documents\n",
    "len(df1['snippet'])"
   ]
  },
  {
   "cell_type": "code",
   "execution_count": 10,
   "metadata": {},
   "outputs": [
    {
     "data": {
      "text/plain": [
       "count     32567\n",
       "unique       55\n",
       "top          TX\n",
       "freq       5256\n",
       "Name: state, dtype: object"
      ]
     },
     "execution_count": 10,
     "metadata": {},
     "output_type": "execute_result"
    }
   ],
   "source": [
    "# Number of label categories (e.g. states)\n",
    "df1['state'].describe()"
   ]
  },
  {
   "cell_type": "code",
   "execution_count": 11,
   "metadata": {},
   "outputs": [
    {
     "data": {
      "text/plain": [
       "TX    5256\n",
       "FL    2405\n",
       "CA    2337\n",
       "IL    2187\n",
       "PA    1445\n",
       "GA    1395\n",
       "TN    1183\n",
       "AL    1156\n",
       "MS    1079\n",
       "NY     958\n",
       "NC     921\n",
       "OH     857\n",
       "OK     815\n",
       "LA     799\n",
       "MO     749\n",
       "AZ     699\n",
       "IN     570\n",
       "WV     564\n",
       "AR     530\n",
       "WA     433\n",
       "NJ     427\n",
       "VA     427\n",
       "MD     418\n",
       "MA     394\n",
       "SC     382\n",
       "KY     376\n",
       "NV     316\n",
       "MI     301\n",
       "DC     273\n",
       "OR     263\n",
       "ID     262\n",
       "DE     257\n",
       "CO     229\n",
       "KS     212\n",
       "UT     174\n",
       "NE     162\n",
       "CT     151\n",
       "NM     138\n",
       "IA     136\n",
       "MT     129\n",
       "ON     122\n",
       "WY     114\n",
       "WI     111\n",
       "SD      87\n",
       "ME      75\n",
       "PR      51\n",
       "MN      48\n",
       "RI      43\n",
       "HI      43\n",
       "AK      32\n",
       "VT      29\n",
       "NH      28\n",
       "ND      13\n",
       "VI       5\n",
       "KA       1\n",
       "Name: state, dtype: int64"
      ]
     },
     "execution_count": 11,
     "metadata": {},
     "output_type": "execute_result"
    }
   ],
   "source": [
    "# Number of samples per class\n",
    "df1['state'].value_counts()"
   ]
  },
  {
   "cell_type": "code",
   "execution_count": 12,
   "metadata": {},
   "outputs": [
    {
     "data": {
      "text/plain": [
       "count    32567.000000\n",
       "mean        45.305923\n",
       "std         30.635400\n",
       "min          5.000000\n",
       "25%         17.000000\n",
       "50%         34.000000\n",
       "75%         82.000000\n",
       "max        121.000000\n",
       "Name: num_words, dtype: float64"
      ]
     },
     "execution_count": 12,
     "metadata": {},
     "output_type": "execute_result"
    }
   ],
   "source": [
    "# Words per sample\n",
    "def get_words_per_sample(txt):\n",
    "    return len(txt.split())\n",
    "df1['num_words'] = df1['snippet'].apply(get_words_per_sample)\n",
    "df1['num_words'].describe()"
   ]
  },
  {
   "cell_type": "code",
   "execution_count": 13,
   "metadata": {},
   "outputs": [
    {
     "data": {
      "text/plain": [
       "[('the', 141618),\n",
       " ('death', 90159),\n",
       " ('penalty', 60719),\n",
       " ('of', 41969),\n",
       " ('to', 34120),\n",
       " ('in', 28431),\n",
       " ('a', 24591),\n",
       " ('and', 24492),\n",
       " ('that', 23523),\n",
       " ('for', 15641),\n",
       " ('penalty.', 15626),\n",
       " ('not', 14041),\n",
       " ('is', 13386),\n",
       " ('was', 12941),\n",
       " (';', 10853),\n",
       " ('&', 10576),\n",
       " (',', 9571),\n",
       " ('penalty,', 9136),\n",
       " ('court', 8926),\n",
       " ('be', 8333)]"
      ]
     },
     "execution_count": 13,
     "metadata": {},
     "output_type": "execute_result"
    }
   ],
   "source": [
    "# Frequency distribution over words\n",
    "from collections import Counter\n",
    "freqs = Counter()\n",
    "for i, row in df1.iterrows():\n",
    "    freqs.update(row['snippet'].lower().split())\n",
    "freqs.most_common()[:20]"
   ]
  },
  {
   "cell_type": "code",
   "execution_count": 14,
   "metadata": {},
   "outputs": [
    {
     "data": {
      "text/plain": [
       "718.8243328602663"
      ]
     },
     "execution_count": 14,
     "metadata": {},
     "output_type": "execute_result"
    }
   ],
   "source": [
    "# (Number of samples) / number of words per sample)\n",
    "len(df1['snippet']) / df1['num_words'].mean()\n",
    "# if this is above 1500, we will use the sequence representation recommended by Google\n",
    "# (see lecture 16)"
   ]
  },
  {
   "cell_type": "code",
   "execution_count": null,
   "metadata": {},
   "outputs": [],
   "source": []
  }
 ],
 "metadata": {
  "kernelspec": {
   "display_name": "Python 3",
   "language": "python",
   "name": "python3"
  },
  "language_info": {
   "codemirror_mode": {
    "name": "ipython",
    "version": 3
   },
   "file_extension": ".py",
   "mimetype": "text/x-python",
   "name": "python",
   "nbconvert_exporter": "python",
   "pygments_lexer": "ipython3",
   "version": "3.6.3"
  }
 },
 "nbformat": 4,
 "nbformat_minor": 2
}
