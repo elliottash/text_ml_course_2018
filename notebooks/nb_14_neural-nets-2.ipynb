{
 "cells": [
  {
   "cell_type": "code",
   "execution_count": 28,
   "metadata": {},
   "outputs": [],
   "source": [
    "# set this to your working directory\n",
    "WORK_DIR = '/home/elliott/Dropbox/_Ash_Teaching/2018-09 - Bocconi - Text Data and ML/code'\n",
    "import os\n",
    "os.chdir(WORK_DIR)\n",
    "import pandas as pd\n",
    "import numpy as np\n",
    "import matplotlib.pyplot as plt\n",
    "\n",
    "X = pd.read_pickle('X.pkl').toarray()\n",
    "vocab = pd.read_pickle('vocab.pkl')\n",
    "df1 = pd.read_csv('death-penalty-cases.csv')\n",
    "Y = df1['citeCount'] > 0\n",
    "num_features = X.shape[1]"
   ]
  },
  {
   "cell_type": "code",
   "execution_count": 2,
   "metadata": {},
   "outputs": [
    {
     "name": "stderr",
     "output_type": "stream",
     "text": [
      "Using TensorFlow backend.\n"
     ]
    }
   ],
   "source": [
    "# Set up the basic model\n",
    "from keras.models import Sequential\n",
    "from keras.layers import Activation, Dense\n",
    "model = Sequential()\n",
    "model.add(Dense(64, input_dim=num_features, activation='relu')) "
   ]
  },
  {
   "cell_type": "code",
   "execution_count": 3,
   "metadata": {},
   "outputs": [],
   "source": [
    "# initializers\n",
    "model.add(Dense(64, kernel_initializer='he_normal'))\n",
    "model.add(Dense(64, kernel_initializer='he_uniform'))"
   ]
  },
  {
   "cell_type": "code",
   "execution_count": 4,
   "metadata": {},
   "outputs": [],
   "source": [
    "# other activation functions (https://keras.io/activations/)\n",
    "model.add(Dense(64, activation=\"elu\"))"
   ]
  },
  {
   "cell_type": "code",
   "execution_count": 5,
   "metadata": {},
   "outputs": [],
   "source": [
    "# batch normalization\n",
    "from keras.layers.normalization import BatchNormalization\n",
    "model.add(Dense(64, use_bias=False)) \n",
    "model.add(BatchNormalization())\n",
    "model.add(Activation('relu'))"
   ]
  },
  {
   "cell_type": "code",
   "execution_count": 6,
   "metadata": {},
   "outputs": [],
   "source": [
    "# regularization\n",
    "from keras.regularizers import l1, l2, l1_l2\n",
    "model.add(Dense(64, \n",
    "                kernel_regularizer=l2(0.01),\n",
    "                activity_regularizer=l1(0.01)))\n",
    "model.add(Dense(64, \n",
    "                kernel_regularizer=l1_l2(l1=0.01,l2=.01),\n",
    "                activity_regularizer=l1_l2(l1=0.01,l2=.01)))"
   ]
  },
  {
   "cell_type": "code",
   "execution_count": 7,
   "metadata": {},
   "outputs": [],
   "source": [
    "# Dropout\n",
    "from keras.layers import Dropout\n",
    "model.add(Dropout(0.5))"
   ]
  },
  {
   "cell_type": "code",
   "execution_count": 8,
   "metadata": {},
   "outputs": [],
   "source": [
    "model.add(Dense(1,activation='sigmoid'))"
   ]
  },
  {
   "cell_type": "code",
   "execution_count": 9,
   "metadata": {},
   "outputs": [],
   "source": [
    "# Optimizers\n",
    "model.compile(optimizer='adam',\n",
    "              loss='binary_crossentropy',\n",
    "              metrics=['accuracy'])\n",
    "\n",
    "model.compile(optimizer='sgd',\n",
    "              loss='binary_crossentropy',\n",
    "              metrics=['accuracy'])"
   ]
  },
  {
   "cell_type": "code",
   "execution_count": 10,
   "metadata": {},
   "outputs": [
    {
     "name": "stdout",
     "output_type": "stream",
     "text": [
      "Train on 26053 samples, validate on 6514 samples\n",
      "Epoch 1/100\n",
      "26053/26053 [==============================] - 2s 69us/step - loss: 13.0077 - acc: 0.7862 - val_loss: 4.9180 - val_acc: 0.3753\n",
      "Epoch 2/100\n",
      "26053/26053 [==============================] - 1s 35us/step - loss: 5.3955 - acc: 0.8207 - val_loss: 3.8007 - val_acc: 0.3753\n",
      "Epoch 3/100\n",
      "26053/26053 [==============================] - 1s 35us/step - loss: 3.8064 - acc: 0.8207 - val_loss: 2.8087 - val_acc: 0.3753\n",
      "Epoch 4/100\n",
      "26053/26053 [==============================] - 1s 36us/step - loss: 2.8528 - acc: 0.8207 - val_loss: 2.2671 - val_acc: 0.3753\n",
      "Epoch 5/100\n",
      "26053/26053 [==============================] - 1s 36us/step - loss: 2.3365 - acc: 0.8207 - val_loss: 1.9243 - val_acc: 0.3753\n",
      "Epoch 6/100\n",
      "26053/26053 [==============================] - 1s 36us/step - loss: 2.0698 - acc: 0.8207 - val_loss: 1.7118 - val_acc: 0.3753\n"
     ]
    },
    {
     "data": {
      "text/plain": [
       "<keras.callbacks.History at 0x7f963c9bc128>"
      ]
     },
     "execution_count": 10,
     "metadata": {},
     "output_type": "execute_result"
    }
   ],
   "source": [
    "# Early stopping\n",
    "from keras.callbacks import EarlyStopping\n",
    "earlystop = EarlyStopping(monitor='val_acc', \n",
    "                          min_delta=0.0001, \n",
    "                          patience=5, \n",
    "                          mode='auto')\n",
    "model.fit(X, Y, batch_size=128, \n",
    "           epochs=100, \n",
    "           callbacks=[earlystop], \n",
    "           validation_split=0.2)"
   ]
  },
  {
   "cell_type": "code",
   "execution_count": 11,
   "metadata": {},
   "outputs": [
    {
     "name": "stdout",
     "output_type": "stream",
     "text": [
      "Train on 26053 samples, validate on 6514 samples\n",
      "Epoch 1/3\n",
      "26053/26053 [==============================] - 1s 35us/step - loss: 1.9889 - acc: 0.8207 - val_loss: 1.6816 - val_acc: 0.3753\n",
      "Epoch 2/3\n",
      "26053/26053 [==============================] - 1s 34us/step - loss: 1.8718 - acc: 0.8207 - val_loss: 1.6060 - val_acc: 0.3753\n",
      "Epoch 3/3\n",
      "26053/26053 [==============================] - 1s 34us/step - loss: 1.8168 - acc: 0.8207 - val_loss: 1.5789 - val_acc: 0.3753\n"
     ]
    },
    {
     "data": {
      "text/plain": [
       "<keras.callbacks.History at 0x7f963cbdaf60>"
      ]
     },
     "execution_count": 11,
     "metadata": {},
     "output_type": "execute_result"
    }
   ],
   "source": [
    "# Batch Training with Large Data\n",
    "from numpy import memmap\n",
    "X_mm = memmap('X.pkl',shape=(32567, 472))\n",
    "\n",
    "model.fit(X_mm, Y, batch_size=128, \n",
    "           epochs=3, \n",
    "           validation_split=0.2)"
   ]
  },
  {
   "cell_type": "code",
   "execution_count": 12,
   "metadata": {},
   "outputs": [
    {
     "name": "stdout",
     "output_type": "stream",
     "text": [
      "Epoch 1/1\n",
      "21711/21711 [==============================] - 2s 83us/step - loss: 0.6188 - acc: 0.6644\n",
      "10856/10856 [==============================] - 0s 33us/step\n",
      "21711/21711 [==============================] - 1s 30us/step\n",
      "Epoch 1/1\n",
      "21711/21711 [==============================] - 2s 87us/step - loss: 0.4962 - acc: 0.7450\n",
      "10856/10856 [==============================] - 0s 34us/step\n",
      "21711/21711 [==============================] - 1s 30us/step\n",
      "Epoch 1/1\n",
      "21712/21712 [==============================] - 2s 89us/step - loss: 0.3607 - acc: 0.8851\n",
      "10855/10855 [==============================] - 0s 35us/step\n",
      "21712/21712 [==============================] - 1s 29us/step\n",
      "Epoch 1/1\n",
      "21711/21711 [==============================] - 2s 96us/step - loss: 0.6123 - acc: 0.6714\n",
      "10856/10856 [==============================] - 0s 39us/step\n",
      "21711/21711 [==============================] - 1s 33us/step\n",
      "Epoch 1/1\n",
      "21711/21711 [==============================] - 2s 99us/step - loss: 0.5030 - acc: 0.7463\n",
      "10856/10856 [==============================] - 0s 39us/step\n",
      "21711/21711 [==============================] - 1s 30us/step\n",
      "Epoch 1/1\n",
      "21712/21712 [==============================] - 2s 97us/step - loss: 0.3991 - acc: 0.8612\n",
      "10855/10855 [==============================] - 0s 42us/step\n",
      "21712/21712 [==============================] - 1s 34us/step\n",
      "Epoch 1/1\n",
      "21711/21711 [==============================] - 2s 111us/step - loss: 0.6183 - acc: 0.6617\n",
      "10856/10856 [==============================] - 0s 44us/step\n",
      "21711/21711 [==============================] - 1s 36us/step\n",
      "Epoch 1/1\n",
      "21711/21711 [==============================] - 2s 111us/step - loss: 0.4996 - acc: 0.7417\n",
      "10856/10856 [==============================] - 1s 52us/step\n",
      "21711/21711 [==============================] - 1s 42us/step\n",
      "Epoch 1/1\n",
      "21712/21712 [==============================] - 3s 115us/step - loss: 0.3357 - acc: 0.8879\n",
      "10855/10855 [==============================] - 1s 51us/step\n",
      "21712/21712 [==============================] - 1s 33us/step\n",
      "Epoch 1/1\n",
      "21711/21711 [==============================] - 3s 123us/step - loss: 0.6155 - acc: 0.6633\n",
      "10856/10856 [==============================] - 1s 61us/step\n",
      "21711/21711 [==============================] - 1s 38us/step\n",
      "Epoch 1/1\n",
      "21711/21711 [==============================] - 3s 135us/step - loss: 0.5105 - acc: 0.7378\n",
      "10856/10856 [==============================] - 1s 54us/step\n",
      "21711/21711 [==============================] - 1s 35us/step\n",
      "Epoch 1/1\n",
      "21712/21712 [==============================] - 3s 127us/step - loss: 0.3605 - acc: 0.8838\n",
      "10855/10855 [==============================] - 1s 59us/step\n",
      "21712/21712 [==============================] - 1s 36us/step\n",
      "Epoch 1/1\n",
      "32567/32567 [==============================] - 3s 102us/step - loss: 0.5047 - acc: 0.7611\n"
     ]
    },
    {
     "data": {
      "text/plain": [
       "{'hidden_layers': 1}"
      ]
     },
     "execution_count": 12,
     "metadata": {},
     "output_type": "execute_result"
    }
   ],
   "source": [
    "# Grid search with KerasClassifier\n",
    "from keras.wrappers.scikit_learn import KerasClassifier\n",
    "from sklearn.model_selection import GridSearchCV\n",
    "\n",
    "# instantiate KerasClassifier with build function\n",
    "def create_model(hidden_layers=1):  \n",
    "    model = Sequential()\n",
    "    model.add(Dense(16, input_dim=num_features, \n",
    "                    activation='relu')) \n",
    "    for i in range(hidden_layers):\n",
    "        model.add(Dense(8, activation='relu'))\n",
    "    model.add(Dense(1, activation='sigmoid'))\n",
    "    model.compile(loss='binary_crossentropy', \n",
    "                optimizer='adam', \n",
    "                metrics= ['accuracy'])\n",
    "    return model\n",
    "clf = KerasClassifier(create_model)\n",
    "\n",
    "# set of grid search CV to select number of hidden layers\n",
    "params = {'hidden_layers' : [0,1,2,3]}\n",
    "grid = GridSearchCV(clf, param_grid=params)\n",
    "grid.fit(X,Y)\n",
    "grid.best_params_"
   ]
  },
  {
   "cell_type": "code",
   "execution_count": 16,
   "metadata": {},
   "outputs": [
    {
     "name": "stdout",
     "output_type": "stream",
     "text": [
      "[[7, 37, 6, 4, 2, 3, 1, 16, 4, 8, 16, 4, 1, 2, 3, 1, 16, 13, 33, 1, 30, 85, 1, 13, 12, 1, 2, 3, 35, 13, 4, 1, 9, 21, 1, 62, 7, 5, 1, 2, 3, 8, 1, 23, 1, 23, 27, 26, 59, 1, 9, 1, 2, 3, 27, 12, 19, 26, 35, 14, 12, 10], [56, 1, 2, 3, 13, 86, 8, 56, 95, 2, 3, 20, 1, 2, 3, 20, 9, 89, 5, 1, 2, 3, 20, 7, 6, 87, 1, 2, 3, 97, 2, 3, 40, 6, 6, 87, 7, 17, 2, 3, 75, 12, 7, 2, 3, 4, 8, 11, 24, 28, 8, 4, 1, 2, 3, 6, 30, 8]]\n"
     ]
    }
   ],
   "source": [
    "######\n",
    "# Convolutional Neural Networks\n",
    "#######\n",
    "\n",
    "# Prep data as word sequences\n",
    "from keras.preprocessing.text import Tokenizer\n",
    "from keras.utils import to_categorical\n",
    "num_words = 100 # use 20,000 in practice\n",
    "tokenizer = Tokenizer(num_words=num_words)\n",
    "tokenizer.fit_on_texts(df1['snippet'])\n",
    "id2word = {v-1:k for k, v in tokenizer.word_index.items() if v <= 100}\n",
    "sequences = tokenizer.texts_to_sequences(df1['snippet'])\n",
    "print(sequences[:2])"
   ]
  },
  {
   "cell_type": "code",
   "execution_count": 17,
   "metadata": {},
   "outputs": [
    {
     "data": {
      "text/plain": [
       "array([[[ 1.,  0.,  0., ...,  0.,  0.,  0.],\n",
       "        [ 1.,  0.,  0., ...,  0.,  0.,  0.],\n",
       "        [ 1.,  0.,  0., ...,  0.,  0.,  0.],\n",
       "        ..., \n",
       "        [ 0.,  0.,  0., ...,  0.,  0.,  0.],\n",
       "        [ 0.,  0.,  0., ...,  0.,  0.,  0.],\n",
       "        [ 0.,  0.,  0., ...,  0.,  0.,  0.]],\n",
       "\n",
       "       [[ 1.,  0.,  0., ...,  0.,  0.,  0.],\n",
       "        [ 1.,  0.,  0., ...,  0.,  0.,  0.],\n",
       "        [ 1.,  0.,  0., ...,  0.,  0.,  0.],\n",
       "        ..., \n",
       "        [ 0.,  0.,  0., ...,  0.,  0.,  0.],\n",
       "        [ 0.,  0.,  0., ...,  0.,  0.,  0.],\n",
       "        [ 0.,  0.,  0., ...,  0.,  0.,  0.]],\n",
       "\n",
       "       [[ 1.,  0.,  0., ...,  0.,  0.,  0.],\n",
       "        [ 1.,  0.,  0., ...,  0.,  0.,  0.],\n",
       "        [ 1.,  0.,  0., ...,  0.,  0.,  0.],\n",
       "        ..., \n",
       "        [ 0.,  0.,  0., ...,  0.,  0.,  0.],\n",
       "        [ 0.,  0.,  0., ...,  0.,  0.,  0.],\n",
       "        [ 0.,  0.,  0., ...,  0.,  0.,  0.]],\n",
       "\n",
       "       ..., \n",
       "       [[ 1.,  0.,  0., ...,  0.,  0.,  0.],\n",
       "        [ 1.,  0.,  0., ...,  0.,  0.,  0.],\n",
       "        [ 1.,  0.,  0., ...,  0.,  0.,  0.],\n",
       "        ..., \n",
       "        [ 0.,  0.,  0., ...,  0.,  0.,  0.],\n",
       "        [ 0.,  1.,  0., ...,  0.,  0.,  0.],\n",
       "        [ 0.,  0.,  0., ...,  0.,  0.,  0.]],\n",
       "\n",
       "       [[ 1.,  0.,  0., ...,  0.,  0.,  0.],\n",
       "        [ 1.,  0.,  0., ...,  0.,  0.,  0.],\n",
       "        [ 1.,  0.,  0., ...,  0.,  0.,  0.],\n",
       "        ..., \n",
       "        [ 0.,  0.,  0., ...,  0.,  0.,  0.],\n",
       "        [ 0.,  0.,  0., ...,  0.,  0.,  0.],\n",
       "        [ 0.,  0.,  0., ...,  0.,  0.,  0.]],\n",
       "\n",
       "       [[ 1.,  0.,  0., ...,  0.,  0.,  0.],\n",
       "        [ 1.,  0.,  0., ...,  0.,  0.,  0.],\n",
       "        [ 1.,  0.,  0., ...,  0.,  0.,  0.],\n",
       "        ..., \n",
       "        [ 0.,  1.,  0., ...,  0.,  0.,  0.],\n",
       "        [ 0.,  0.,  0., ...,  0.,  0.,  0.],\n",
       "        [ 0.,  0.,  0., ...,  0.,  0.,  0.]]], dtype=float32)"
      ]
     },
     "execution_count": 17,
     "metadata": {},
     "output_type": "execute_result"
    }
   ],
   "source": [
    "# Represent data as one-hot encoded vectors\n",
    "from keras.preprocessing.sequence import pad_sequences\n",
    "maxlen = max([len(sent) for sent in sequences]) \n",
    "X = pad_sequences(sequences, maxlen=maxlen)\n",
    "Xhot = to_categorical(X)\n",
    "Xhot"
   ]
  },
  {
   "cell_type": "code",
   "execution_count": 21,
   "metadata": {},
   "outputs": [
    {
     "name": "stdout",
     "output_type": "stream",
     "text": [
      "_________________________________________________________________\n",
      "Layer (type)                 Output Shape              Param #   \n",
      "=================================================================\n",
      "conv1d_2 (Conv1D)            (None, 80, 250)           75250     \n",
      "_________________________________________________________________\n",
      "global_max_pooling1d_2 (Glob (None, 250)               0         \n",
      "_________________________________________________________________\n",
      "dense_56 (Dense)             (None, 25)                6275      \n",
      "_________________________________________________________________\n",
      "dense_57 (Dense)             (None, 1)                 26        \n",
      "=================================================================\n",
      "Total params: 81,551\n",
      "Trainable params: 81,551\n",
      "Non-trainable params: 0\n",
      "_________________________________________________________________\n"
     ]
    }
   ],
   "source": [
    "# Build Model\n",
    "from keras.layers import Conv1D, GlobalMaxPooling1D\n",
    "model = Sequential()\n",
    "model.add(Conv1D(input_shape=(82,100),\n",
    "                 filters=250, \n",
    "                 kernel_size=3)) # trigrams\n",
    "model.add(GlobalMaxPooling1D())\n",
    "model.add(Dense(25, activation='relu'))\n",
    "model.add(Dense(1, activation='sigmoid'))\n",
    "model.summary()"
   ]
  },
  {
   "cell_type": "code",
   "execution_count": 22,
   "metadata": {},
   "outputs": [
    {
     "name": "stdout",
     "output_type": "stream",
     "text": [
      "Epoch 1/5\n",
      "32567/32567 [==============================] - 6s 186us/step - loss: 0.4938 - acc: 0.7637\n",
      "Epoch 2/5\n",
      "32567/32567 [==============================] - 5s 159us/step - loss: 0.4349 - acc: 0.7932\n",
      "Epoch 3/5\n",
      "32567/32567 [==============================] - 5s 155us/step - loss: 0.3902 - acc: 0.8199\n",
      "Epoch 4/5\n",
      "32567/32567 [==============================] - 5s 149us/step - loss: 0.3430 - acc: 0.8453\n",
      "Epoch 5/5\n",
      "32567/32567 [==============================] - 5s 149us/step - loss: 0.2944 - acc: 0.8687\n"
     ]
    },
    {
     "data": {
      "text/plain": [
       "<keras.callbacks.History at 0x7f95c76aa828>"
      ]
     },
     "execution_count": 22,
     "metadata": {},
     "output_type": "execute_result"
    }
   ],
   "source": [
    "model.compile(loss='binary_crossentropy',\n",
    "              optimizer='adam',\n",
    "              metrics=['accuracy'])\n",
    "model.fit(Xhot, Y, epochs=5)"
   ]
  },
  {
   "cell_type": "code",
   "execution_count": 23,
   "metadata": {},
   "outputs": [
    {
     "data": {
      "text/plain": [
       "(3, 100)"
      ]
     },
     "execution_count": 23,
     "metadata": {},
     "output_type": "execute_result"
    }
   ],
   "source": [
    "# weights on first trigram filter\n",
    "first_filter = model.get_weights()[0][:,:,0]\n",
    "first_filter.shape"
   ]
  },
  {
   "cell_type": "code",
   "execution_count": 26,
   "metadata": {},
   "outputs": [
    {
     "data": {
      "text/plain": [
       "'evidence see first'"
      ]
     },
     "execution_count": 26,
     "metadata": {},
     "output_type": "execute_result"
    }
   ],
   "source": [
    "# highest activating trigram\n",
    "trigram = np.argmax(np.abs(first_filter),axis=1)\n",
    "' '.join([id2word[i] for i in trigram])"
   ]
  },
  {
   "cell_type": "code",
   "execution_count": 29,
   "metadata": {},
   "outputs": [
    {
     "data": {
      "image/png": "[encoded data removed]",
      "text/plain": [
       "<matplotlib.figure.Figure at 0x7f95c0b00550>"
      ]
     },
     "metadata": {
      "needs_background": "light"
     },
     "output_type": "display_data"
    },
    {
     "data": {
      "image/png": "[encoded data removed]",
      "text/plain": [
       "<matplotlib.figure.Figure at 0x7f95c4220860>"
      ]
     },
     "metadata": {
      "needs_background": "light"
     },
     "output_type": "display_data"
    },
    {
     "data": {
      "image/png": "[encoded data removed]",
      "text/plain": [
       "<matplotlib.figure.Figure at 0x7f95c4283748>"
      ]
     },
     "metadata": {
      "needs_background": "light"
     },
     "output_type": "display_data"
    }
   ],
   "source": [
    "# heatmap for filters\n",
    "from seaborn import heatmap\n",
    "for i in range(3):\n",
    "    heatmap(model.get_weights()[0][:,:,i].T)\n",
    "    plt.show()"
   ]
  },
  {
   "cell_type": "code",
   "execution_count": 30,
   "metadata": {},
   "outputs": [
    {
     "name": "stdout",
     "output_type": "stream",
     "text": [
      "_________________________________________________________________\n",
      "Layer (type)                 Output Shape              Param #   \n",
      "=================================================================\n",
      "input_1 (InputLayer)         (None, 472)               0         \n",
      "_________________________________________________________________\n",
      "dense_58 (Dense)             (None, 32)                15136     \n",
      "_________________________________________________________________\n",
      "dense_59 (Dense)             (None, 472)               15576     \n",
      "=================================================================\n",
      "Total params: 30,712\n",
      "Trainable params: 30,712\n",
      "Non-trainable params: 0\n",
      "_________________________________________________________________\n"
     ]
    }
   ],
   "source": [
    "# Autoencoder\n",
    "from keras.layers import Input\n",
    "data_dims = X.shape[1]\n",
    "input_img = Input(shape=(data_dims,)) # input placeholder\n",
    "\n",
    "# encoded: the compressed representation\n",
    "encoded = Dense(32, activation='relu')(input_img)\n",
    "# decoded: the lossy reconstruction\n",
    "decoded = Dense(data_dims, activation='sigmoid')(encoded)\n",
    "\n",
    "from keras.models import Model\n",
    "autoencoder = Model(input_img, decoded)\n",
    "autoencoder.summary()"
   ]
  },
  {
   "cell_type": "code",
   "execution_count": 31,
   "metadata": {},
   "outputs": [
    {
     "name": "stdout",
     "output_type": "stream",
     "text": [
      "Train on 26053 samples, validate on 6514 samples\n",
      "Epoch 1/10\n",
      "26053/26053 [==============================] - 1s 45us/step - loss: 0.6344 - val_loss: 0.5107\n",
      "Epoch 2/10\n",
      "26053/26053 [==============================] - 1s 20us/step - loss: 0.2959 - val_loss: 0.2093\n",
      "Epoch 3/10\n",
      "26053/26053 [==============================] - 1s 20us/step - loss: 0.1947 - val_loss: 0.1640\n",
      "Epoch 4/10\n",
      "26053/26053 [==============================] - 0s 19us/step - loss: 0.1779 - val_loss: 0.1478\n",
      "Epoch 5/10\n",
      "26053/26053 [==============================] - 0s 19us/step - loss: 0.1677 - val_loss: 0.1365\n",
      "Epoch 6/10\n",
      "26053/26053 [==============================] - 0s 19us/step - loss: 0.1588 - val_loss: 0.1275\n",
      "Epoch 7/10\n",
      "26053/26053 [==============================] - 1s 19us/step - loss: 0.1508 - val_loss: 0.1189\n",
      "Epoch 8/10\n",
      "26053/26053 [==============================] - 1s 20us/step - loss: 0.1434 - val_loss: 0.1106\n",
      "Epoch 9/10\n",
      "26053/26053 [==============================] - 1s 21us/step - loss: 0.1366 - val_loss: 0.1027\n",
      "Epoch 10/10\n",
      "26053/26053 [==============================] - 1s 20us/step - loss: 0.1303 - val_loss: 0.0953\n"
     ]
    },
    {
     "data": {
      "text/plain": [
       "<keras.callbacks.History at 0x7f95c70f3e80>"
      ]
     },
     "execution_count": 31,
     "metadata": {},
     "output_type": "execute_result"
    }
   ],
   "source": [
    "autoencoder.compile(optimizer='adadelta', loss='binary_crossentropy')\n",
    "\n",
    "# Fit and validate\n",
    "autoencoder.fit(X, X,\n",
    "                epochs=10,\n",
    "                batch_size=256,\n",
    "                shuffle=True,\n",
    "                validation_split=.2)"
   ]
  },
  {
   "cell_type": "code",
   "execution_count": 45,
   "metadata": {},
   "outputs": [
    {
     "data": {
      "text/plain": [
       "[(0, 0.015637064),\n",
       " (0, 0.04920432),\n",
       " (0, 0.01552498),\n",
       " (0, 0.0090448726),\n",
       " (0, 0.025892973),\n",
       " (0, 0.01405709),\n",
       " (0, 0.031077221),\n",
       " (0, 0.021898394),\n",
       " (0, 0.024592455),\n",
       " (3, 0.020910749)]"
      ]
     },
     "execution_count": 45,
     "metadata": {},
     "output_type": "execute_result"
    }
   ],
   "source": [
    "Xpred = autoencoder.predict(X)\n",
    "list(zip(X[178][:10], Xpred[178][:10]))"
   ]
  },
  {
   "cell_type": "code",
   "execution_count": 47,
   "metadata": {},
   "outputs": [
    {
     "data": {
      "text/plain": [
       "array([[ 0.11267956,  2.61195922,  0.        ,  0.30709952,  3.33018064,\n",
       "         0.        ,  1.05446982,  1.68811417,  0.41522232,  2.36132598,\n",
       "         1.51298428,  1.28733015,  2.04268122,  2.14705181,  0.20842591,\n",
       "         1.4303124 ,  1.23065948,  1.65198255,  0.90758121,  0.37303638,\n",
       "         2.97877026,  2.20921946,  0.38581687,  2.13093114,  1.9217484 ,\n",
       "         1.04927194,  2.70666337,  0.76855296,  0.        ,  2.64639664,\n",
       "         1.02973294,  1.74879789],\n",
       "       [ 0.52734804,  1.36887419,  0.        ,  0.45910767,  3.49829888,\n",
       "         0.67846024,  0.89417028,  2.0709703 ,  0.87651092,  2.45137954,\n",
       "         1.72468925,  1.7225033 ,  2.73024678,  2.16357422,  0.2949608 ,\n",
       "         0.03829849,  0.42580903,  2.59655023,  1.7256732 ,  1.00549853,\n",
       "         3.35043716,  1.1858747 ,  0.39655784,  0.79530638,  1.01324403,\n",
       "         2.06913638,  2.23793149,  0.83604223,  0.        ,  2.07728267,\n",
       "         0.466461  ,  0.6884855 ]], dtype=float32)"
      ]
     },
     "execution_count": 47,
     "metadata": {},
     "output_type": "execute_result"
    }
   ],
   "source": [
    "# Dimension reduction using autoencoder\n",
    "encoder = Model(input_img, encoded)\n",
    "X32 = encoder.predict(X)\n",
    "X32[:2]"
   ]
  },
  {
   "cell_type": "code",
   "execution_count": null,
   "metadata": {},
   "outputs": [],
   "source": []
  }
 ],
 "metadata": {
  "kernelspec": {
   "display_name": "Python 3",
   "language": "python",
   "name": "python3"
  },
  "language_info": {
   "codemirror_mode": {
    "name": "ipython",
    "version": 3
   },
   "file_extension": ".py",
   "mimetype": "text/x-python",
   "name": "python",
   "nbconvert_exporter": "python",
   "pygments_lexer": "ipython3",
   "version": "3.6.3"
  }
 },
 "nbformat": 4,
 "nbformat_minor": 2
}
