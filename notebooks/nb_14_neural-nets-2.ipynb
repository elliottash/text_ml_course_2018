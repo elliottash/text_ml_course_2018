{
 "cells": [
  {
   "cell_type": "code",
   "execution_count": 1,
   "metadata": {},
   "outputs": [],
   "source": [
    "# set this to your working directory\n",
    "WORK_DIR = '/home/elliott/Dropbox/_Ash_Teaching/2018-09 - Bocconi - Text Data and ML/code'\n",
    "import os\n",
    "os.chdir(WORK_DIR)\n",
    "import pandas as pd\n",
    "\n",
    "X = pd.read_pickle('X.pkl').toarray()\n",
    "vocab = pd.read_pickle('vocab.pkl')\n",
    "df1 = pd.read_csv('death-penalty-cases.csv')\n",
    "Y = df1['citeCount'] > 0\n",
    "num_features = X.shape[1]"
   ]
  },
  {
   "cell_type": "code",
   "execution_count": 2,
   "metadata": {},
   "outputs": [
    {
     "name": "stderr",
     "output_type": "stream",
     "text": [
      "Using TensorFlow backend.\n"
     ]
    }
   ],
   "source": [
    "# Set up the basic model\n",
    "from keras.models import Sequential\n",
    "from keras.layers import Activation, Dense\n",
    "model = Sequential()\n",
    "model.add(Dense(64, input_dim=num_features, activation='relu')) "
   ]
  },
  {
   "cell_type": "code",
   "execution_count": 3,
   "metadata": {},
   "outputs": [],
   "source": [
    "# initializers\n",
    "model.add(Dense(64, kernel_initializer='he_normal'))\n",
    "model.add(Dense(64, kernel_initializer='he_uniform'))"
   ]
  },
  {
   "cell_type": "code",
   "execution_count": 4,
   "metadata": {},
   "outputs": [],
   "source": [
    "# other activation functions (https://keras.io/activations/)\n",
    "model.add(Dense(64, activation=\"elu\"))"
   ]
  },
  {
   "cell_type": "code",
   "execution_count": 5,
   "metadata": {},
   "outputs": [],
   "source": [
    "# batch normalization\n",
    "from keras.layers.normalization import BatchNormalization\n",
    "model.add(Dense(64, use_bias=False)) \n",
    "model.add(BatchNormalization())\n",
    "model.add(Activation('relu'))"
   ]
  },
  {
   "cell_type": "code",
   "execution_count": 6,
   "metadata": {},
   "outputs": [],
   "source": [
    "# regularization\n",
    "from keras.regularizers import l1, l2, l1_l2\n",
    "model.add(Dense(64, \n",
    "                kernel_regularizer=l2(0.01),\n",
    "                activity_regularizer=l1(0.01)))\n",
    "model.add(Dense(64, \n",
    "                kernel_regularizer=l1_l2(l1=0.01,l2=.01),\n",
    "                activity_regularizer=l1_l2(l1=0.01,l2=.01)))"
   ]
  },
  {
   "cell_type": "code",
   "execution_count": 7,
   "metadata": {},
   "outputs": [],
   "source": [
    "# Dropout\n",
    "from keras.layers import Dropout\n",
    "model.add(Dropout(0.5))"
   ]
  },
  {
   "cell_type": "code",
   "execution_count": 8,
   "metadata": {},
   "outputs": [],
   "source": [
    "model.add(Dense(1,activation='sigmoid'))"
   ]
  },
  {
   "cell_type": "code",
   "execution_count": 9,
   "metadata": {},
   "outputs": [],
   "source": [
    "# Optimizers\n",
    "model.compile(optimizer='adam',\n",
    "              loss='binary_crossentropy',\n",
    "              metrics=['accuracy'])\n",
    "\n",
    "model.compile(optimizer='sgd',\n",
    "              loss='binary_crossentropy',\n",
    "              metrics=['accuracy'])"
   ]
  },
  {
   "cell_type": "code",
   "execution_count": 14,
   "metadata": {},
   "outputs": [
    {
     "name": "stdout",
     "output_type": "stream",
     "text": [
      "Train on 26053 samples, validate on 6514 samples\n",
      "Epoch 1/100\n",
      "26053/26053 [==============================] - 1s 43us/step - loss: 2.2133 - acc: 0.8207 - val_loss: 1.7595 - val_acc: 0.3753\n",
      "Epoch 2/100\n",
      "26053/26053 [==============================] - 1s 41us/step - loss: 2.0302 - acc: 0.8207 - val_loss: 1.6829 - val_acc: 0.3753\n",
      "Epoch 3/100\n",
      "26053/26053 [==============================] - 1s 39us/step - loss: 1.9279 - acc: 0.8207 - val_loss: 1.5986 - val_acc: 0.3753\n",
      "Epoch 4/100\n",
      "26053/26053 [==============================] - 1s 39us/step - loss: 1.8957 - acc: 0.8207 - val_loss: 1.6613 - val_acc: 0.3753\n",
      "Epoch 5/100\n",
      "26053/26053 [==============================] - 1s 41us/step - loss: 1.8356 - acc: 0.8207 - val_loss: 1.6818 - val_acc: 0.3753\n",
      "Epoch 6/100\n",
      "26053/26053 [==============================] - 1s 39us/step - loss: 1.7929 - acc: 0.8207 - val_loss: 1.4689 - val_acc: 0.3753\n"
     ]
    },
    {
     "data": {
      "text/plain": [
       "<keras.callbacks.History at 0x7ff5946e8cc0>"
      ]
     },
     "execution_count": 14,
     "metadata": {},
     "output_type": "execute_result"
    }
   ],
   "source": [
    "# Early stopping\n",
    "from keras.callbacks import EarlyStopping\n",
    "earlystop = EarlyStopping(monitor='val_acc', \n",
    "                          min_delta=0.0001, \n",
    "                          patience=5, \n",
    "                          mode='auto')\n",
    "model.fit(X, Y, batch_size=128, \n",
    "           epochs=100, \n",
    "           callbacks=[earlystop], \n",
    "           validation_split=0.2)"
   ]
  },
  {
   "cell_type": "code",
   "execution_count": 12,
   "metadata": {},
   "outputs": [
    {
     "name": "stdout",
     "output_type": "stream",
     "text": [
      "Train on 26053 samples, validate on 6514 samples\n",
      "Epoch 1/3\n",
      "26053/26053 [==============================] - 1s 38us/step - loss: 3.0958 - acc: 0.8207 - val_loss: 2.0465 - val_acc: 0.3753\n",
      "Epoch 2/3\n",
      "26053/26053 [==============================] - 1s 37us/step - loss: 2.2566 - acc: 0.8207 - val_loss: 1.7367 - val_acc: 0.3753\n",
      "Epoch 3/3\n",
      "26053/26053 [==============================] - 1s 38us/step - loss: 1.9223 - acc: 0.8207 - val_loss: 1.8935 - val_acc: 0.3753\n"
     ]
    },
    {
     "data": {
      "text/plain": [
       "<keras.callbacks.History at 0x7ff5946e82e8>"
      ]
     },
     "execution_count": 12,
     "metadata": {},
     "output_type": "execute_result"
    }
   ],
   "source": [
    "# Batch Training with Large Data\n",
    "from numpy import memmap\n",
    "X_mm = memmap('X.pkl',shape=(32567, 472))\n",
    "\n",
    "model.fit(X_mm, Y, batch_size=128, \n",
    "           epochs=3, \n",
    "           validation_split=0.2)"
   ]
  },
  {
   "cell_type": "code",
   "execution_count": 13,
   "metadata": {},
   "outputs": [
    {
     "name": "stdout",
     "output_type": "stream",
     "text": [
      "Epoch 1/1\n",
      "21711/21711 [==============================] - 2s 85us/step - loss: 0.6168 - acc: 0.6682\n",
      "10856/10856 [==============================] - 0s 33us/step\n",
      "21711/21711 [==============================] - 1s 29us/step\n",
      "Epoch 1/1\n",
      "21711/21711 [==============================] - 2s 83us/step - loss: 0.4978 - acc: 0.7452\n",
      "10856/10856 [==============================] - 0s 34us/step\n",
      "21711/21711 [==============================] - 1s 29us/step\n",
      "Epoch 1/1\n",
      "21712/21712 [==============================] - 2s 80us/step - loss: 0.3671 - acc: 0.8855\n",
      "10855/10855 [==============================] - 0s 35us/step\n",
      "21712/21712 [==============================] - 1s 29us/step\n",
      "Epoch 1/1\n",
      "21711/21711 [==============================] - 2s 94us/step - loss: 0.6098 - acc: 0.6703\n",
      "10856/10856 [==============================] - 0s 38us/step\n",
      "21711/21711 [==============================] - 1s 36us/step\n",
      "Epoch 1/1\n",
      "21711/21711 [==============================] - 2s 99us/step - loss: 0.4988 - acc: 0.7462\n",
      "10856/10856 [==============================] - 0s 40us/step\n",
      "21711/21711 [==============================] - 1s 31us/step\n",
      "Epoch 1/1\n",
      "21712/21712 [==============================] - 2s 97us/step - loss: 0.3579 - acc: 0.8877\n",
      "10855/10855 [==============================] - 0s 46us/step\n",
      "21712/21712 [==============================] - 1s 33us/step\n",
      "Epoch 1/1\n",
      "21711/21711 [==============================] - 2s 109us/step - loss: 0.6134 - acc: 0.6680\n",
      "10856/10856 [==============================] - 0s 45us/step\n",
      "21711/21711 [==============================] - 1s 33us/step\n",
      "Epoch 1/1\n",
      "21711/21711 [==============================] - 3s 116us/step - loss: 0.5025 - acc: 0.7443\n",
      "10856/10856 [==============================] - 1s 47us/step\n",
      "21711/21711 [==============================] - 1s 33us/step\n",
      "Epoch 1/1\n",
      "21712/21712 [==============================] - 3s 122us/step - loss: 0.3723 - acc: 0.8734\n",
      "10855/10855 [==============================] - 1s 49us/step\n",
      "21712/21712 [==============================] - 1s 34us/step\n",
      "Epoch 1/1\n",
      "21711/21711 [==============================] - 3s 128us/step - loss: 0.6352 - acc: 0.6460\n",
      "10856/10856 [==============================] - 1s 54us/step\n",
      "21711/21711 [==============================] - 1s 35us/step\n",
      "Epoch 1/1\n",
      "21711/21711 [==============================] - 3s 128us/step - loss: 0.5114 - acc: 0.7323\n",
      "10856/10856 [==============================] - 1s 54us/step\n",
      "21711/21711 [==============================] - 1s 37us/step\n",
      "Epoch 1/1\n",
      "21712/21712 [==============================] - 3s 129us/step - loss: 0.3570 - acc: 0.8869\n",
      "10855/10855 [==============================] - 1s 60us/step\n",
      "21712/21712 [==============================] - 1s 37us/step\n",
      "Epoch 1/1\n",
      "32567/32567 [==============================] - 3s 95us/step - loss: 0.5043 - acc: 0.7630\n"
     ]
    },
    {
     "data": {
      "text/plain": [
       "{'hidden_layers': 0}"
      ]
     },
     "execution_count": 13,
     "metadata": {},
     "output_type": "execute_result"
    }
   ],
   "source": [
    "# Grid search with KerasClassifier\n",
    "from keras.wrappers.scikit_learn import KerasClassifier\n",
    "from sklearn.model_selection import GridSearchCV\n",
    "\n",
    "# instantiate KerasClassifier with build function\n",
    "def create_model(hidden_layers=1):  \n",
    "    model = Sequential()\n",
    "    model.add(Dense(16, input_dim=num_features, \n",
    "                    activation='relu')) \n",
    "    for i in range(hidden_layers):\n",
    "        model.add(Dense(8, activation='relu'))\n",
    "    model.add(Dense(1, activation='sigmoid'))\n",
    "    model.compile(loss='binary_crossentropy', \n",
    "                optimizer='adam', \n",
    "                metrics= ['accuracy'])\n",
    "    return model\n",
    "clf = KerasClassifier(create_model)\n",
    "\n",
    "# set of grid search CV to select number of hidden layers\n",
    "params = {'hidden_layers' : [0,1,2,3]}\n",
    "grid = GridSearchCV(clf, param_grid=params)\n",
    "grid.fit(X,Y)\n",
    "grid.best_params_"
   ]
  },
  {
   "cell_type": "code",
   "execution_count": null,
   "metadata": {},
   "outputs": [],
   "source": []
  }
 ],
 "metadata": {
  "kernelspec": {
   "display_name": "Python 3",
   "language": "python",
   "name": "python3"
  },
  "language_info": {
   "codemirror_mode": {
    "name": "ipython",
    "version": 3
   },
   "file_extension": ".py",
   "mimetype": "text/x-python",
   "name": "python",
   "nbconvert_exporter": "python",
   "pygments_lexer": "ipython3",
   "version": "3.6.3"
  }
 },
 "nbformat": 4,
 "nbformat_minor": 2
}
