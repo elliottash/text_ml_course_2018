{
 "cells": [
  {
   "cell_type": "code",
   "execution_count": 1,
   "metadata": {},
   "outputs": [],
   "source": [
    "#Setup\n",
    "import warnings; warnings.simplefilter('ignore')\n",
    "# set this to your working directory\n",
    "WORKING_DIR = '/home/elliott/Dropbox/_Ash_Teaching/2018-09 - Bocconi - Text Data and ML/code'\n",
    "import os\n",
    "os.chdir(WORKING_DIR)\n",
    "import matplotlib.pyplot as plt\n",
    "%matplotlib notebook\n",
    "import pandas as pd\n",
    "df1 = pd.read_csv('death-penalty-cases.csv')\n",
    "df1['snippet'] = df1['snippet'].str.replace('hellip',' ').str.replace('\\d+',' ')\n",
    "state = df1['state']\n",
    "\n",
    "from sklearn.feature_extraction.text import CountVectorizer\n",
    "vectorizer = CountVectorizer(stop_words='english',\n",
    "                             max_features=500)\n",
    "X = vectorizer.fit_transform(df1['snippet']).todense()\n",
    "X = X / X.sum(axis=1) # counts to frequencies\n",
    "for i, word in enumerate(vectorizer.get_feature_names()):\n",
    "    column = X[:,i]\n",
    "    df1['x_'+word] = column\n",
    "\n",
    "import numpy as np\n",
    "df1['logcites'] = np.log(1+df1['citeCount'])\n",
    "\n",
    "features = [x for x in df1.columns if x.startswith('x_')]\n",
    "keepcols = ['logcites'] + features\n",
    "df1 = df1[keepcols]\n",
    "\n",
    "df1['any_cites'] = df1['logcites'] > 0\n",
    "y = df1['any_cites']\n",
    "\n",
    "from sklearn.model_selection import train_test_split\n",
    "train, test = train_test_split(df1, test_size=0.2)\n",
    "features = [x for x in df1.columns if x.startswith('x_')]"
   ]
  },
  {
   "cell_type": "code",
   "execution_count": 2,
   "metadata": {},
   "outputs": [
    {
     "data": {
      "text/plain": [
       "0.74884863371200494"
      ]
     },
     "execution_count": 2,
     "metadata": {},
     "output_type": "execute_result"
    }
   ],
   "source": [
    "# Binary Classifier\n",
    "from sklearn.linear_model import SGDClassifier\n",
    "sgd_clf = SGDClassifier(max_iter=10) \n",
    "sgd_clf.fit(train[features], train['any_cites'])\n",
    "sgd_clf.score(test[features],test['any_cites']) # accuracy on held-out data"
   ]
  },
  {
   "cell_type": "code",
   "execution_count": 3,
   "metadata": {},
   "outputs": [
    {
     "data": {
      "text/plain": [
       "0.73159947185801577"
      ]
     },
     "execution_count": 3,
     "metadata": {},
     "output_type": "execute_result"
    }
   ],
   "source": [
    "# compare to picking largest category\n",
    "df1['any_cites'].mean()"
   ]
  },
  {
   "cell_type": "code",
   "execution_count": 4,
   "metadata": {},
   "outputs": [],
   "source": [
    "# Form cross-validated prdictions for all data points\n",
    "from sklearn.model_selection import cross_val_predict\n",
    "df1['any_cites_sgd'] = cross_val_predict(sgd_clf,\n",
    "                                         df1[features],\n",
    "                                         df1['any_cites'],\n",
    "                                         cv=3,\n",
    "                                         n_jobs=3)"
   ]
  },
  {
   "cell_type": "code",
   "execution_count": 5,
   "metadata": {},
   "outputs": [
    {
     "data": {
      "text/plain": [
       "array([[ 1299,  7442],\n",
       "       [ 1582, 22244]])"
      ]
     },
     "execution_count": 5,
     "metadata": {},
     "output_type": "execute_result"
    }
   ],
   "source": [
    "# Construction confusion matrix\n",
    "from sklearn.metrics import confusion_matrix\n",
    "confusion_matrix(df1['any_cites'], df1['any_cites_sgd'])"
   ]
  },
  {
   "cell_type": "code",
   "execution_count": 6,
   "metadata": {},
   "outputs": [
    {
     "name": "stdout",
     "output_type": "stream",
     "text": [
      "Precision: 0.749309438793\n",
      "Recall: 0.933601947452\n"
     ]
    }
   ],
   "source": [
    "# Precision and Recall\n",
    "from sklearn.metrics import precision_score, recall_score\n",
    "print('Precision:',precision_score(df1['any_cites'], df1['any_cites_sgd']))\n",
    "print('Recall:',recall_score(df1['any_cites'], df1['any_cites_sgd']))"
   ]
  },
  {
   "cell_type": "code",
   "execution_count": 7,
   "metadata": {},
   "outputs": [
    {
     "data": {
      "text/plain": [
       "0.8313649274928987"
      ]
     },
     "execution_count": 7,
     "metadata": {},
     "output_type": "execute_result"
    }
   ],
   "source": [
    "#F1 score\n",
    "from sklearn.metrics import f1_score\n",
    "f1_score(df1['any_cites'], df1['any_cites_sgd'])"
   ]
  },
  {
   "cell_type": "code",
   "execution_count": 8,
   "metadata": {},
   "outputs": [
    {
     "data": {
      "text/plain": [
       "(array([   325.,    165.,     27.,    108.,    355.,    525.,   1824.,\n",
       "         12681.,  16381.,    176.]),\n",
       " array([-1.50657207, -1.20851691, -0.91046174, -0.61240658, -0.31435142,\n",
       "        -0.01629625,  0.28175891,  0.57981407,  0.87786924,  1.1759244 ,\n",
       "         1.47397957]),\n",
       " <a list of 10 Patch objects>)"
      ]
     },
     "execution_count": 8,
     "metadata": {},
     "output_type": "execute_result"
    },
    {
     "data": {
      "image/png": "[encoded data removed]",
      "text/plain": [
       "<matplotlib.figure.Figure at 0x7f28b6b25f98>"
      ]
     },
     "metadata": {
      "needs_background": "light"
     },
     "output_type": "display_data"
    }
   ],
   "source": [
    "##############\n",
    "# Precision/Recall Trade Off\n",
    "##############\n",
    "# scores used by SGDClassifier\n",
    "y_scores = sgd_clf.decision_function(df1[features])\n",
    "plt.hist(y_scores) # histogram of scores"
   ]
  },
  {
   "cell_type": "code",
   "execution_count": 9,
   "metadata": {},
   "outputs": [
    {
     "data": {
      "text/plain": [
       "0.96938618847299418"
      ]
     },
     "execution_count": 9,
     "metadata": {},
     "output_type": "execute_result"
    }
   ],
   "source": [
    "# prediction using default threshold ... \n",
    "threshold = 0\n",
    "(y_scores > threshold).mean()"
   ]
  },
  {
   "cell_type": "code",
   "execution_count": 10,
   "metadata": {},
   "outputs": [
    {
     "data": {
      "text/plain": [
       "0.96938618847299418"
      ]
     },
     "execution_count": 10,
     "metadata": {},
     "output_type": "execute_result"
    }
   ],
   "source": [
    "# ... gives default model prediction\n",
    "ypred = sgd_clf.predict(df1[features])\n",
    "ypred.mean()"
   ]
  },
  {
   "cell_type": "code",
   "execution_count": 11,
   "metadata": {},
   "outputs": [
    {
     "data": {
      "text/plain": [
       "0.14437927963889827"
      ]
     },
     "execution_count": 11,
     "metadata": {},
     "output_type": "execute_result"
    }
   ],
   "source": [
    "# increasing threshold means more zeros are predicted\n",
    "threshold = 1\n",
    "(y_scores > threshold).mean()"
   ]
  },
  {
   "cell_type": "code",
   "execution_count": 12,
   "metadata": {},
   "outputs": [
    {
     "data": {
      "text/plain": [
       "<matplotlib.legend.Legend at 0x7f2895c44828>"
      ]
     },
     "execution_count": 12,
     "metadata": {},
     "output_type": "execute_result"
    },
    {
     "data": {
      "image/png": "[encoded data removed]",
      "text/plain": [
       "<matplotlib.figure.Figure at 0x7f28a40ed940>"
      ]
     },
     "metadata": {
      "needs_background": "light"
     },
     "output_type": "display_data"
    }
   ],
   "source": [
    "# Visualizing the precision/recall tradeoff\n",
    "y_scores = cross_val_predict(sgd_clf,\n",
    "                             df1[features],\n",
    "                             df1['any_cites'],\n",
    "                             cv=3,\n",
    "                             method='decision_function',\n",
    "                             n_jobs=3)\n",
    "\n",
    "from sklearn.metrics import precision_recall_curve\n",
    "precisions, recalls, thresholds = precision_recall_curve(df1['any_cites'], y_scores)\n",
    "\n",
    "import matplotlib.pyplot as plt\n",
    "plt.plot(thresholds, precisions[:-1], label=\"Precision\")\n",
    "plt.plot(thresholds, recalls[:-1], label=\"Recall\")\n",
    "plt.xlabel('Threshold')\n",
    "plt.legend()"
   ]
  },
  {
   "cell_type": "code",
   "execution_count": 13,
   "metadata": {},
   "outputs": [
    {
     "data": {
      "text/plain": [
       "<matplotlib.text.Text at 0x7f2895009470>"
      ]
     },
     "execution_count": 13,
     "metadata": {},
     "output_type": "execute_result"
    },
    {
     "data": {
      "image/png": "[encoded data removed]",
      "text/plain": [
       "<matplotlib.figure.Figure at 0x7f2895000b00>"
      ]
     },
     "metadata": {
      "needs_background": "light"
     },
     "output_type": "display_data"
    }
   ],
   "source": [
    "# Plot precisions vs recall\n",
    "plt.step(recalls, precisions)\n",
    "plt.xlabel('Recall')\n",
    "plt.ylabel('Precision')"
   ]
  },
  {
   "cell_type": "code",
   "execution_count": 14,
   "metadata": {},
   "outputs": [
    {
     "name": "stdout",
     "output_type": "stream",
     "text": [
      "Precision for Low Threshold: 0.743253539907\n",
      "Precision for High Threshold: 0.876437847866\n",
      "Recall for Low Threshold: 0.982582053219\n",
      "Recall for High Threshold: 0.495676991522\n"
     ]
    }
   ],
   "source": [
    "# Assessing other scoring thresholds\n",
    "ypred_lower = y_scores > -1\n",
    "ypred_higher = y_scores > 1\n",
    "\n",
    "print('Precision for Low Threshold:',precision_score(y, ypred_lower))\n",
    "print('Precision for High Threshold:',precision_score(y, ypred_higher))\n",
    "print('Recall for Low Threshold:',recall_score(y, ypred_lower))\n",
    "print('Recall for High Threshold:',recall_score(y, ypred_higher))"
   ]
  },
  {
   "cell_type": "code",
   "execution_count": 15,
   "metadata": {},
   "outputs": [
    {
     "data": {
      "text/plain": [
       "<matplotlib.text.Text at 0x7f2894f1f320>"
      ]
     },
     "execution_count": 15,
     "metadata": {},
     "output_type": "execute_result"
    },
    {
     "data": {
      "image/png": "[encoded data removed]",
      "text/plain": [
       "<matplotlib.figure.Figure at 0x7f2894f671d0>"
      ]
     },
     "metadata": {
      "needs_background": "light"
     },
     "output_type": "display_data"
    }
   ],
   "source": [
    "# ROC Curve\n",
    "from sklearn.metrics import roc_curve\n",
    "fpr, tpr, thresholds = roc_curve(y, y_scores)\n",
    "plt.plot(fpr, tpr)\n",
    "plt.plot([0,1],[0,1],'k--')\n",
    "plt.xlabel('False Positive Rate')\n",
    "plt.ylabel('True Positive Rate')"
   ]
  },
  {
   "cell_type": "code",
   "execution_count": 16,
   "metadata": {},
   "outputs": [
    {
     "data": {
      "text/plain": [
       "0.71400969867600039"
      ]
     },
     "execution_count": 16,
     "metadata": {},
     "output_type": "execute_result"
    }
   ],
   "source": [
    "# AUC\n",
    "from sklearn.metrics import roc_auc_score\n",
    "roc_auc_score(y, y_scores)"
   ]
  },
  {
   "cell_type": "code",
   "execution_count": 17,
   "metadata": {},
   "outputs": [
    {
     "data": {
      "text/plain": [
       "<matplotlib.legend.Legend at 0x7f28941068d0>"
      ]
     },
     "execution_count": 17,
     "metadata": {},
     "output_type": "execute_result"
    },
    {
     "data": {
      "image/png": "[encoded data removed]",
      "text/plain": [
       "<matplotlib.figure.Figure at 0x7f28a4046f98>"
      ]
     },
     "metadata": {
      "needs_background": "light"
     },
     "output_type": "display_data"
    }
   ],
   "source": [
    "# Random Forests and predict_proba()\n",
    "from sklearn.ensemble import RandomForestClassifier\n",
    "rfc = RandomForestClassifier()\n",
    "y_probas_rfc = cross_val_predict(rfc,\n",
    "                                 X,\n",
    "                                 y,\n",
    "                                 cv=3,\n",
    "                                 method='predict_proba',\n",
    "                                 n_jobs=3)\n",
    "\n",
    "y_scores_rfc = y_probas_rfc[:,1]\n",
    "fpr_rfc, tpr_rfc, thresholds_rfc = roc_curve(y,y_scores_rfc) \n",
    "\n",
    "# compare precision/recall tradeoff for SGD and RF classifiers\n",
    "plt.plot(fpr, tpr, label=\"SGD\")\n",
    "plt.plot(fpr_rfc, tpr_rfc, label=\"RF\")\n",
    "plt.legend()"
   ]
  },
  {
   "cell_type": "code",
   "execution_count": 18,
   "metadata": {},
   "outputs": [
    {
     "data": {
      "text/plain": [
       "0.68123306366765957"
      ]
     },
     "execution_count": 18,
     "metadata": {},
     "output_type": "execute_result"
    }
   ],
   "source": [
    "roc_auc_score(y,y_scores_rfc)"
   ]
  },
  {
   "cell_type": "code",
   "execution_count": null,
   "metadata": {},
   "outputs": [],
   "source": [
    "###\n",
    "# Multinomial CLassification\n",
    "###\n",
    "statepred = cross_val_predict(sgd_clf,\n",
    "                              X,\n",
    "                              state,\n",
    "                              cv=3)\n",
    "print((statepred == state).mean())\n",
    "list(zip(state[:8],statepred[:8]))"
   ]
  },
  {
   "cell_type": "code",
   "execution_count": null,
   "metadata": {},
   "outputs": [],
   "source": [
    "# Multi-class confusion matrix\n",
    "conf_mx = confusion_matrix(state,statepred)\n",
    "conf_mx\n",
    "plt.matshow(conf_mx)"
   ]
  },
  {
   "cell_type": "code",
   "execution_count": null,
   "metadata": {},
   "outputs": [],
   "source": [
    "# normalize colors\n",
    "conf_mx_norm = conf_mx / conf_mx.sum(axis=1, keepdims=True)\n",
    "plt.matshow(conf_mx_norm)"
   ]
  },
  {
   "cell_type": "code",
   "execution_count": null,
   "metadata": {},
   "outputs": [],
   "source": []
  }
 ],
 "metadata": {
  "kernelspec": {
   "display_name": "Python 3",
   "language": "python",
   "name": "python3"
  },
  "language_info": {
   "codemirror_mode": {
    "name": "ipython",
    "version": 3
   },
   "file_extension": ".py",
   "mimetype": "text/x-python",
   "name": "python",
   "nbconvert_exporter": "python",
   "pygments_lexer": "ipython3",
   "version": "3.6.3"
  }
 },
 "nbformat": 4,
 "nbformat_minor": 2
}
